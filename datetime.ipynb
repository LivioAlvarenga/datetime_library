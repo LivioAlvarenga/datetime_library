{
 "metadata": {
  "language_info": {
   "codemirror_mode": {
    "name": "ipython",
    "version": 3
   },
   "file_extension": ".py",
   "mimetype": "text/x-python",
   "name": "python",
   "nbconvert_exporter": "python",
   "pygments_lexer": "ipython3",
   "version": "3.9.5"
  },
  "orig_nbformat": 2,
  "kernelspec": {
   "name": "python3",
   "display_name": "Python 3.9.5 64-bit"
  },
  "interpreter": {
   "hash": "b8e920ee31e7e3dc283331744284dc5060870b60f8b605138959489677438823"
  }
 },
 "nbformat": 4,
 "nbformat_minor": 2,
 "cells": [
  {
   "source": [
    "<h1>datetime()</h2>"
   ],
   "cell_type": "markdown",
   "metadata": {}
  },
  {
   "source": [
    "<h2>Tabela especificação de formatos de datetime</h2>\n",
    "<img src=\"Tabela especificação de formatos de datetime.png\">"
   ],
   "cell_type": "markdown",
   "metadata": {}
  },
  {
   "cell_type": "code",
   "execution_count": 1,
   "metadata": {},
   "outputs": [
    {
     "output_type": "stream",
     "name": "stdout",
     "text": [
      "2020-08-23 10:30:10\n"
     ]
    }
   ],
   "source": [
    "from datetime import datetime\n",
    "dt1 = datetime(2020, 8, 23, 10, 30, 10)\n",
    "print(dt1)"
   ]
  },
  {
   "cell_type": "code",
   "execution_count": 2,
   "metadata": {},
   "outputs": [
    {
     "output_type": "stream",
     "name": "stdout",
     "text": [
      "03/06/2021 06:11\n"
     ]
    }
   ],
   "source": [
    "from datetime import datetime\n",
    "print(datetime.now().strftime(\"%d/%m/%Y %H:%M\"))"
   ]
  },
  {
   "source": [
    "<h2><font color=#00BFFF>.hour</font></h2>"
   ],
   "cell_type": "markdown",
   "metadata": {}
  },
  {
   "cell_type": "code",
   "execution_count": 14,
   "metadata": {},
   "outputs": [
    {
     "output_type": "stream",
     "name": "stdout",
     "text": [
      "Hora =  10\n"
     ]
    }
   ],
   "source": [
    "from datetime import datetime\n",
    "dt1 = datetime(2020, 8, 23, 10, 30, 10)\n",
    "print(\"Hora = \", dt1.hour)"
   ]
  },
  {
   "source": [
    "<h2><font color=#00BFFF>.minute</font></h2>"
   ],
   "cell_type": "markdown",
   "metadata": {}
  },
  {
   "cell_type": "code",
   "execution_count": 9,
   "metadata": {},
   "outputs": [
    {
     "output_type": "stream",
     "name": "stdout",
     "text": [
      "Minuto =  30\n"
     ]
    }
   ],
   "source": [
    "from datetime import datetime\n",
    "dt1 = datetime(2020, 8, 23, 10, 30, 10)\n",
    "print(\"Minuto = \", dt1.minute)"
   ]
  },
  {
   "source": [
    "<h2><font color=#00BFFF>.second</font></h2>"
   ],
   "cell_type": "markdown",
   "metadata": {}
  },
  {
   "cell_type": "code",
   "execution_count": 10,
   "metadata": {},
   "outputs": [
    {
     "output_type": "stream",
     "name": "stdout",
     "text": [
      "Segundo =  10\n"
     ]
    }
   ],
   "source": [
    "from datetime import datetime\n",
    "dt1 = datetime(2020, 8, 23, 10, 30, 10)\n",
    "print(\"Segundo = \", dt1.second)"
   ]
  },
  {
   "source": [
    "<h2><font color=#00BFFF>.microsecond</font></h2>"
   ],
   "cell_type": "markdown",
   "metadata": {}
  },
  {
   "cell_type": "code",
   "execution_count": 8,
   "metadata": {},
   "outputs": [
    {
     "output_type": "stream",
     "name": "stdout",
     "text": [
      "Microsegundo: 50\n"
     ]
    }
   ],
   "source": [
    "from datetime import datetime\n",
    "dt1 = datetime(2020, 8, 23, 10, 30, 10, 50)\n",
    "print ('Microsegundo:', dt1.microsecond)"
   ]
  },
  {
   "source": [
    "<h2><font color=#00BFFF>.now()</font></h2>"
   ],
   "cell_type": "markdown",
   "metadata": {}
  },
  {
   "cell_type": "code",
   "execution_count": 18,
   "metadata": {},
   "outputs": [
    {
     "output_type": "stream",
     "name": "stdout",
     "text": [
      "2021-06-03 06:28:23.306854\n"
     ]
    }
   ],
   "source": [
    "from datetime import datetime\n",
    "agora = datetime.now()\n",
    "print(agora)"
   ]
  },
  {
   "source": [
    "<h2><font color=#00BFFF>time()</font></h2>"
   ],
   "cell_type": "markdown",
   "metadata": {}
  },
  {
   "cell_type": "code",
   "execution_count": 12,
   "metadata": {},
   "outputs": [
    {
     "output_type": "stream",
     "name": "stdout",
     "text": [
      "10:30:10\n"
     ]
    }
   ],
   "source": [
    "from datetime import datetime, time\n",
    "dt1 = datetime(2020, 8, 23, 10, 30, 10)\n",
    "\n",
    "print(dt1.time())"
   ]
  },
  {
   "source": [
    "<h2><font color=#00BFFF>today()</font></h2>"
   ],
   "cell_type": "markdown",
   "metadata": {}
  },
  {
   "cell_type": "code",
   "execution_count": 1,
   "metadata": {},
   "outputs": [
    {
     "output_type": "stream",
     "name": "stdout",
     "text": [
      "Hoje é: 2021-06-14\n"
     ]
    }
   ],
   "source": [
    "from datetime import date\n",
    "a = date.today()\n",
    "print('Hoje é: {}'.format(a))"
   ]
  },
  {
   "source": [
    "<h2><font color=#00BFFF>.day()</font></h2>"
   ],
   "cell_type": "markdown",
   "metadata": {}
  },
  {
   "cell_type": "code",
   "execution_count": 2,
   "metadata": {},
   "outputs": [
    {
     "output_type": "stream",
     "name": "stdout",
     "text": [
      "O dia é: 14\n"
     ]
    }
   ],
   "source": [
    "from datetime import date\n",
    "a = date.today().day\n",
    "print('O dia é: {}'.format(a))"
   ]
  },
  {
   "source": [
    "<h2><font color=#00BFFF>.month()</font></h2>"
   ],
   "cell_type": "markdown",
   "metadata": {}
  },
  {
   "cell_type": "code",
   "execution_count": 3,
   "metadata": {},
   "outputs": [
    {
     "output_type": "stream",
     "name": "stdout",
     "text": [
      "O mês é: 6\n"
     ]
    }
   ],
   "source": [
    "from datetime import date\n",
    "a = date.today().month\n",
    "print('O mês é: {}'.format(a))"
   ]
  },
  {
   "source": [
    "<h2><font color=#00BFFF>.year()</font></h2>"
   ],
   "cell_type": "markdown",
   "metadata": {}
  },
  {
   "cell_type": "code",
   "execution_count": 4,
   "metadata": {},
   "outputs": [
    {
     "output_type": "stream",
     "name": "stdout",
     "text": [
      "Estamos no ano de: 2021\n"
     ]
    }
   ],
   "source": [
    "from datetime import date\n",
    "a = date.today().year\n",
    "print('Estamos no ano de: {}'.format(a))"
   ]
  },
  {
   "source": [
    "<h2><font color=#00BFFF>strptime()</font></h2>\n",
    "Converte uma string em formato data time em uma tupla"
   ],
   "cell_type": "markdown",
   "metadata": {}
  },
  {
   "cell_type": "code",
   "execution_count": 10,
   "metadata": {},
   "outputs": [
    {
     "output_type": "stream",
     "name": "stdout",
     "text": [
      "2020-08-23 00:00:00\n2018-03-01 12:30:00\n"
     ]
    }
   ],
   "source": [
    "from datetime import datetime\n",
    "print(datetime.strptime('20200823', '%Y%m%d'))\n",
    "\n",
    "data_e_hora_em_texto = '01/03/2018 12:30'\n",
    "data_e_hora = datetime.strptime(data_e_hora_em_texto, '%d/%m/%Y %H:%M')\n",
    "print(data_e_hora)"
   ]
  }
 ]
}