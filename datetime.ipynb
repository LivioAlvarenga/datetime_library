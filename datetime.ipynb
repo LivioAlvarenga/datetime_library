{
 "metadata": {
  "language_info": {
   "codemirror_mode": {
    "name": "ipython",
    "version": 3
   },
   "file_extension": ".py",
   "mimetype": "text/x-python",
   "name": "python",
   "nbconvert_exporter": "python",
   "pygments_lexer": "ipython3",
   "version": "3.8.10"
  },
  "orig_nbformat": 2,
  "kernelspec": {
   "name": "python3810jvsc74a57bd0e2e40fc1c38c381d76887a3ae1b55b9071bed2dfcea6a2cd064831dac0dea8c6",
   "display_name": "Python 3.8.10 64-bit ('base': conda)"
  }
 },
 "nbformat": 4,
 "nbformat_minor": 2,
 "cells": [
  {
   "source": [
    "<h1>datetime()</h2>"
   ],
   "cell_type": "markdown",
   "metadata": {}
  },
  {
   "cell_type": "code",
   "execution_count": 1,
   "metadata": {},
   "outputs": [
    {
     "output_type": "stream",
     "name": "stdout",
     "text": [
      "2020-08-23 10:30:10\n"
     ]
    }
   ],
   "source": [
    "from datetime import datetime\n",
    "dt1 = datetime(2020, 8, 23, 10, 30, 10)\n",
    "print(dt1)"
   ]
  },
  {
   "cell_type": "code",
   "execution_count": 2,
   "metadata": {},
   "outputs": [
    {
     "output_type": "stream",
     "name": "stdout",
     "text": [
      "03/06/2021 06:11\n"
     ]
    }
   ],
   "source": [
    "from datetime import datetime\n",
    "print(datetime.now().strftime(\"%d/%m/%Y %H:%M\"))"
   ]
  },
  {
   "source": [
    "<h2><font color=#00BFFF>.hour</font></h2>"
   ],
   "cell_type": "markdown",
   "metadata": {}
  },
  {
   "cell_type": "code",
   "execution_count": 14,
   "metadata": {},
   "outputs": [
    {
     "output_type": "stream",
     "name": "stdout",
     "text": [
      "Hora =  10\n"
     ]
    }
   ],
   "source": [
    "from datetime import datetime\n",
    "dt1 = datetime(2020, 8, 23, 10, 30, 10)\n",
    "print(\"Hora = \", dt1.hour)"
   ]
  },
  {
   "source": [
    "<h2><font color=#00BFFF>.minute</font></h2>"
   ],
   "cell_type": "markdown",
   "metadata": {}
  },
  {
   "cell_type": "code",
   "execution_count": 9,
   "metadata": {},
   "outputs": [
    {
     "output_type": "stream",
     "name": "stdout",
     "text": [
      "Minuto =  30\n"
     ]
    }
   ],
   "source": [
    "from datetime import datetime\n",
    "dt1 = datetime(2020, 8, 23, 10, 30, 10)\n",
    "print(\"Minuto = \", dt1.minute)"
   ]
  },
  {
   "source": [
    "<h2><font color=#00BFFF>.second</font></h2>"
   ],
   "cell_type": "markdown",
   "metadata": {}
  },
  {
   "cell_type": "code",
   "execution_count": 10,
   "metadata": {},
   "outputs": [
    {
     "output_type": "stream",
     "name": "stdout",
     "text": [
      "Segundo =  10\n"
     ]
    }
   ],
   "source": [
    "from datetime import datetime\n",
    "dt1 = datetime(2020, 8, 23, 10, 30, 10)\n",
    "print(\"Segundo = \", dt1.second)"
   ]
  },
  {
   "source": [
    "<h2><font color=#00BFFF>.microsecond</font></h2>"
   ],
   "cell_type": "markdown",
   "metadata": {}
  },
  {
   "cell_type": "code",
   "execution_count": 8,
   "metadata": {},
   "outputs": [
    {
     "output_type": "stream",
     "name": "stdout",
     "text": [
      "Microsegundo: 50\n"
     ]
    }
   ],
   "source": [
    "from datetime import datetime\n",
    "dt1 = datetime(2020, 8, 23, 10, 30, 10, 50)\n",
    "print ('Microsegundo:', dt1.microsecond)"
   ]
  },
  {
   "source": [
    "<h2><font color=#00BFFF>.now()</font></h2>"
   ],
   "cell_type": "markdown",
   "metadata": {}
  },
  {
   "cell_type": "code",
   "execution_count": 18,
   "metadata": {},
   "outputs": [
    {
     "output_type": "stream",
     "name": "stdout",
     "text": [
      "2021-06-03 06:28:23.306854\n"
     ]
    }
   ],
   "source": [
    "from datetime import datetime\n",
    "agora = datetime.now()\n",
    "print(agora)"
   ]
  },
  {
   "source": [
    "<h2><font color=#00BFFF>time()</font></h2>"
   ],
   "cell_type": "markdown",
   "metadata": {}
  },
  {
   "cell_type": "code",
   "execution_count": 12,
   "metadata": {},
   "outputs": [
    {
     "output_type": "stream",
     "name": "stdout",
     "text": [
      "10:30:10\n"
     ]
    }
   ],
   "source": [
    "from datetime import datetime, time\n",
    "dt1 = datetime(2020, 8, 23, 10, 30, 10)\n",
    "\n",
    "print(dt1.time())"
   ]
  }
 ]
}